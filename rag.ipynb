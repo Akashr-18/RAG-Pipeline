{
 "cells": [
  {
   "cell_type": "code",
   "execution_count": 6,
   "metadata": {},
   "outputs": [],
   "source": [
    "import requests\n",
    "import json"
   ]
  },
  {
   "cell_type": "code",
   "execution_count": 9,
   "metadata": {},
   "outputs": [
    {
     "name": "stdout",
     "output_type": "stream",
     "text": [
      "response = <Response [200]>\n",
      "A question that can spark a lot of debate!\n",
      "\n",
      "Ranking the top 10 cricketers of all time is a challenging task, as it depends on various factors such as era, style of play, and personal opinions. However, based on their achievements, dominance, and impact on the game, here's a list of the top 10 cricketers:\n",
      "\n",
      "1. **Sir Don Bradman** (Australia): Regarded by many as the greatest batsman in cricket history, with an average of 99.94.\n",
      "2. **Sachin Tendulkar** (India): The highest run-scorer in international cricket (34,357 runs), widely regarded as one of the greatest batsmen of all time.\n",
      "3. **Muttiah Muralitharan** (Sri Lanka): The most successful bowler in Test history (800 wickets), known for his unorthodox action and variations.\n",
      "4. **Sir Vivian Richards** (West Indies): A destructive batsman and electrifying fielder, widely regarded as one of the greatest all-rounders in cricket history.\n",
      "5. **Wasim Akram** (Pakistan): One of the most feared fast bowlers in cricket history, with 414 wickets in Test cricket at an average of 23.62.\n",
      "6. **Shaun Pollock** (South Africa): A skilled all-rounder who played a key role in South Africa's resurgence as a dominant force in international cricket.\n",
      "7. **Kumar Sangakkara** (Sri Lanka): One of the greatest wicketkeepers-batsmen in cricket history, with an average of 57.78 and over 24,000 runs in international cricket.\n",
      "8. **Ricky Ponting** (Australia): A highly successful captain and batsman who holds numerous Australian records, including most Test wins as captain (48).\n",
      "9. **Shane Warne** (Australia): One of the greatest spin bowlers in cricket history, with 708 wickets in Test cricket at an average of 25.41.\n",
      "10. **Jacques Kallis** (South Africa): A dominant all-rounder who played a key role in South Africa's success during the late 1990s and early 2000s.\n",
      "\n",
      "Of course, this list is not exhaustive, and other great cricketers like Brian Lara, Allan Border, Ian Botham, and Kapil Dev could also be included. Ultimately, the ranking of the top 10 cricketers is subjective and open to debate.\n"
     ]
    }
   ],
   "source": [
    "full_response = []\n",
    "prompt = \"\"\"\n",
    "Top 10 cricketer?\n",
    "\"\"\"\n",
    "\n",
    "url = 'http://localhost:11434/api/generate'\n",
    "\n",
    "\n",
    "data = {\n",
    "    \"model\": \"llama3:latest \",\n",
    "    \"prompt\": prompt\n",
    "}\n",
    "\n",
    "headers = {'Content-Type': 'application/json'}\n",
    "\n",
    "response = requests.post(url, data=json.dumps(data), headers=headers, stream=True)\n",
    "\n",
    "print(f\"{response = }\")\n",
    "try:\n",
    "    for line in response.iter_lines():\n",
    "        # filter out keep-alive new lines\n",
    "        if line:\n",
    "            decoded_line = json.loads(line.decode('utf-8'))\n",
    "            # print(decoded_line['response'])  # uncomment to results, token by token\n",
    "            full_response.append(decoded_line['response'])\n",
    "finally:\n",
    "    response.close()\n",
    "    \n",
    "    \n",
    "print(''.join(full_response))"
   ]
  }
 ],
 "metadata": {
  "kernelspec": {
   "display_name": "Python 3",
   "language": "python",
   "name": "python3"
  },
  "language_info": {
   "codemirror_mode": {
    "name": "ipython",
    "version": 3
   },
   "file_extension": ".py",
   "mimetype": "text/x-python",
   "name": "python",
   "nbconvert_exporter": "python",
   "pygments_lexer": "ipython3",
   "version": "3.10.0"
  }
 },
 "nbformat": 4,
 "nbformat_minor": 2
}
